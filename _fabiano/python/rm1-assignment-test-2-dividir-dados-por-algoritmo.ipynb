{
 "cells": [
  {
   "cell_type": "code",
   "execution_count": 1,
   "metadata": {
    "collapsed": true
   },
   "outputs": [],
   "source": [
    "#imports\n",
    "import os\n",
    "\n",
    "import matplotlib.pyplot as plt\n",
    "\n",
    "import numpy as np\n",
    "import pandas as pd\n",
    "\n",
    "import seaborn as sns\n",
    "plt.style.use('seaborn-whitegrid')\n",
    "\n",
    "%matplotlib inline  \n",
    "\n",
    "# ========================================================\n",
    "# estilos de graficos :\n",
    "# >>  https://tonysyu.github.io/raw_content/matplotlib-style-gallery/gallery.html\n",
    "# ========================================================\n",
    "# plt.style.use('seaborn-whitegrid')\n",
    "# plt.style.use('seaborn-pastel')\n",
    "# plt.style.use('seaborn-colorblind')\n",
    "# plt.style.use('seaborn-bright')\n",
    "# plt.style.use('grayscale')\n",
    "# plt.style.use('ggplot')\n",
    "# plt.style.use('fivethirtyeight')\n",
    "# plt.style.use('dark_background')\n",
    "# plt.style.use('classic')\n",
    "# plt.style.use('bmh')"
   ]
  },
  {
   "cell_type": "code",
   "execution_count": 2,
   "metadata": {},
   "outputs": [
    {
     "data": {
      "text/html": [
       "<div>\n",
       "<style>\n",
       "    .dataframe thead tr:only-child th {\n",
       "        text-align: right;\n",
       "    }\n",
       "\n",
       "    .dataframe thead th {\n",
       "        text-align: left;\n",
       "    }\n",
       "\n",
       "    .dataframe tbody tr th {\n",
       "        vertical-align: top;\n",
       "    }\n",
       "</style>\n",
       "<table border=\"1\" class=\"dataframe\">\n",
       "  <thead>\n",
       "    <tr style=\"text-align: right;\">\n",
       "      <th></th>\n",
       "      <th>algoritmo</th>\n",
       "      <th>probabilidade_erro</th>\n",
       "      <th>size_of_array</th>\n",
       "      <th>largest_sorted_subarray</th>\n",
       "      <th>k_unordered_sequence</th>\n",
       "      <th>percentual_k_unordered</th>\n",
       "      <th>percentual_maior_array</th>\n",
       "    </tr>\n",
       "  </thead>\n",
       "  <tbody>\n",
       "    <tr>\n",
       "      <th>0</th>\n",
       "      <td>merge</td>\n",
       "      <td>0.01</td>\n",
       "      <td>10000</td>\n",
       "      <td>90</td>\n",
       "      <td>962</td>\n",
       "      <td>9.62</td>\n",
       "      <td>0.90</td>\n",
       "    </tr>\n",
       "    <tr>\n",
       "      <th>1</th>\n",
       "      <td>merge</td>\n",
       "      <td>0.01</td>\n",
       "      <td>10000</td>\n",
       "      <td>66</td>\n",
       "      <td>974</td>\n",
       "      <td>9.74</td>\n",
       "      <td>0.66</td>\n",
       "    </tr>\n",
       "    <tr>\n",
       "      <th>2</th>\n",
       "      <td>merge</td>\n",
       "      <td>0.01</td>\n",
       "      <td>10000</td>\n",
       "      <td>66</td>\n",
       "      <td>974</td>\n",
       "      <td>9.74</td>\n",
       "      <td>0.66</td>\n",
       "    </tr>\n",
       "    <tr>\n",
       "      <th>3</th>\n",
       "      <td>merge</td>\n",
       "      <td>0.01</td>\n",
       "      <td>10000</td>\n",
       "      <td>67</td>\n",
       "      <td>1045</td>\n",
       "      <td>10.45</td>\n",
       "      <td>0.67</td>\n",
       "    </tr>\n",
       "    <tr>\n",
       "      <th>4</th>\n",
       "      <td>merge</td>\n",
       "      <td>0.01</td>\n",
       "      <td>10000</td>\n",
       "      <td>90</td>\n",
       "      <td>962</td>\n",
       "      <td>9.62</td>\n",
       "      <td>0.90</td>\n",
       "    </tr>\n",
       "    <tr>\n",
       "      <th>5</th>\n",
       "      <td>merge</td>\n",
       "      <td>0.01</td>\n",
       "      <td>10000</td>\n",
       "      <td>53</td>\n",
       "      <td>996</td>\n",
       "      <td>9.96</td>\n",
       "      <td>0.53</td>\n",
       "    </tr>\n",
       "    <tr>\n",
       "      <th>6</th>\n",
       "      <td>merge</td>\n",
       "      <td>0.01</td>\n",
       "      <td>10000</td>\n",
       "      <td>64</td>\n",
       "      <td>1068</td>\n",
       "      <td>10.68</td>\n",
       "      <td>0.64</td>\n",
       "    </tr>\n",
       "    <tr>\n",
       "      <th>7</th>\n",
       "      <td>merge</td>\n",
       "      <td>0.01</td>\n",
       "      <td>10000</td>\n",
       "      <td>64</td>\n",
       "      <td>1068</td>\n",
       "      <td>10.68</td>\n",
       "      <td>0.64</td>\n",
       "    </tr>\n",
       "    <tr>\n",
       "      <th>8</th>\n",
       "      <td>merge</td>\n",
       "      <td>0.01</td>\n",
       "      <td>10000</td>\n",
       "      <td>103</td>\n",
       "      <td>955</td>\n",
       "      <td>9.55</td>\n",
       "      <td>1.03</td>\n",
       "    </tr>\n",
       "    <tr>\n",
       "      <th>9</th>\n",
       "      <td>merge</td>\n",
       "      <td>0.01</td>\n",
       "      <td>10000</td>\n",
       "      <td>71</td>\n",
       "      <td>1000</td>\n",
       "      <td>10.00</td>\n",
       "      <td>0.71</td>\n",
       "    </tr>\n",
       "  </tbody>\n",
       "</table>\n",
       "</div>"
      ],
      "text/plain": [
       "  algoritmo probabilidade_erro  size_of_array  largest_sorted_subarray  \\\n",
       "0     merge               0.01          10000                       90   \n",
       "1     merge               0.01          10000                       66   \n",
       "2     merge               0.01          10000                       66   \n",
       "3     merge               0.01          10000                       67   \n",
       "4     merge               0.01          10000                       90   \n",
       "5     merge               0.01          10000                       53   \n",
       "6     merge               0.01          10000                       64   \n",
       "7     merge               0.01          10000                       64   \n",
       "8     merge               0.01          10000                      103   \n",
       "9     merge               0.01          10000                       71   \n",
       "\n",
       "   k_unordered_sequence  percentual_k_unordered  percentual_maior_array  \n",
       "0                   962                    9.62                    0.90  \n",
       "1                   974                    9.74                    0.66  \n",
       "2                   974                    9.74                    0.66  \n",
       "3                  1045                   10.45                    0.67  \n",
       "4                   962                    9.62                    0.90  \n",
       "5                   996                    9.96                    0.53  \n",
       "6                  1068                   10.68                    0.64  \n",
       "7                  1068                   10.68                    0.64  \n",
       "8                   955                    9.55                    1.03  \n",
       "9                  1000                   10.00                    0.71  "
      ]
     },
     "execution_count": 2,
     "metadata": {},
     "output_type": "execute_result"
    }
   ],
   "source": [
    "# load dataset\n",
    "csv = '../data/_dados_para_analisar.csv'\n",
    "df = pd.read_csv(delimiter = ';', filepath_or_buffer = csv)\n",
    "df.head(10)"
   ]
  },
  {
   "cell_type": "code",
   "execution_count": 10,
   "metadata": {},
   "outputs": [
    {
     "data": {
      "text/plain": [
       "array(['merge', 'quick', 'bubble', 'insertion'], dtype=object)"
      ]
     },
     "execution_count": 10,
     "metadata": {},
     "output_type": "execute_result"
    }
   ],
   "source": [
    "df['algoritmo'].unique()"
   ]
  },
  {
   "cell_type": "code",
   "execution_count": 11,
   "metadata": {},
   "outputs": [],
   "source": [
    "#separa os dados por algoritmo\n",
    "merge = df[df['algoritmo'] == 'merge']\n",
    "quick = df[df['algoritmo'] == 'quick']\n",
    "bubble = df[df['algoritmo'] == 'bubble']\n",
    "insertion = df[df['algoritmo'] == 'insertion']\n"
   ]
  },
  {
   "cell_type": "code",
   "execution_count": 9,
   "metadata": {},
   "outputs": [
    {
     "data": {
      "text/plain": [
       "array(['merge'], dtype=object)"
      ]
     },
     "execution_count": 9,
     "metadata": {},
     "output_type": "execute_result"
    }
   ],
   "source": [
    "merge['algoritmo'].unique()"
   ]
  },
  {
   "cell_type": "code",
   "execution_count": 13,
   "metadata": {},
   "outputs": [
    {
     "data": {
      "text/plain": [
       "array(['quick'], dtype=object)"
      ]
     },
     "execution_count": 13,
     "metadata": {},
     "output_type": "execute_result"
    }
   ],
   "source": [
    "quick['algoritmo'].unique()"
   ]
  },
  {
   "cell_type": "code",
   "execution_count": 14,
   "metadata": {},
   "outputs": [
    {
     "data": {
      "text/plain": [
       "array(['bubble'], dtype=object)"
      ]
     },
     "execution_count": 14,
     "metadata": {},
     "output_type": "execute_result"
    }
   ],
   "source": [
    "bubble['algoritmo'].unique()"
   ]
  },
  {
   "cell_type": "code",
   "execution_count": 15,
   "metadata": {},
   "outputs": [
    {
     "data": {
      "text/plain": [
       "array(['insertion'], dtype=object)"
      ]
     },
     "execution_count": 15,
     "metadata": {},
     "output_type": "execute_result"
    }
   ],
   "source": [
    "insertion['algoritmo'].unique()"
   ]
  },
  {
   "cell_type": "code",
   "execution_count": 16,
   "metadata": {
    "collapsed": true
   },
   "outputs": [],
   "source": [
    "h = [9 ,48 ,37 ,6 ,26 ,7 ,24 ,44 ,17 ,50 ,48 ,30 ,49 ,33 ,22 ,13 ,42 ,29 ,39 ,13 ,19 ,13 ,9 ,28 ,34 ,1 ,33 ,27 ,14 ,45 ,48 ,40 ,11 ,17 ,6 ,50 ,9 ,44 ,20 ,16 ,37 ,45 ,23 ,14 ,38 ,29 ,10 ,49 ,44 ,46 ,35 ,45 ,15 ,2 ,22 ,1 ,46 ,40 ,8 ,48 ,23 ,23 ,32 ,35 ,3 ,15 ,8 ,36 ,17 ,24 ,27 ,48 ,28 ,5 ,28 ,50 ,44 ,4 ,25 ,6 ,9 ,1 ,11 ,44 ,26 ,50 ,44 ,12 ,7 ,20 ,30 ,20 ,37 ,20 ,6 ,8 ,13 ,15 ,20 ,49]"
   ]
  },
  {
   "cell_type": "code",
   "execution_count": null,
   "metadata": {
    "collapsed": true
   },
   "outputs": [],
   "source": []
  }
 ],
 "metadata": {
  "kernelspec": {
   "display_name": "Python 3",
   "language": "python",
   "name": "python3"
  },
  "language_info": {
   "codemirror_mode": {
    "name": "ipython",
    "version": 3
   },
   "file_extension": ".py",
   "mimetype": "text/x-python",
   "name": "python",
   "nbconvert_exporter": "python",
   "pygments_lexer": "ipython3",
   "version": "3.6.3"
  }
 },
 "nbformat": 4,
 "nbformat_minor": 2
}
