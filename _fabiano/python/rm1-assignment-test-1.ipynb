{
 "cells": [
  {
   "cell_type": "code",
   "execution_count": 1,
   "metadata": {
    "collapsed": true
   },
   "outputs": [],
   "source": [
    "#imports\n",
    "import os\n",
    "\n",
    "import matplotlib.pyplot as plt\n",
    "\n",
    "import numpy as np\n",
    "import pandas as pd\n",
    "\n",
    "import seaborn as sns\n",
    "plt.style.use('seaborn-whitegrid')\n",
    "\n",
    "%matplotlib inline  \n",
    "\n",
    "# ========================================================\n",
    "# estilos de graficos :\n",
    "# >>  https://tonysyu.github.io/raw_content/matplotlib-style-gallery/gallery.html\n",
    "# ========================================================\n",
    "# plt.style.use('seaborn-whitegrid')\n",
    "# plt.style.use('seaborn-pastel')\n",
    "# plt.style.use('seaborn-colorblind')\n",
    "# plt.style.use('seaborn-bright')\n",
    "# plt.style.use('grayscale')\n",
    "# plt.style.use('ggplot')\n",
    "# plt.style.use('fivethirtyeight')\n",
    "# plt.style.use('dark_background')\n",
    "# plt.style.use('classic')\n",
    "# plt.style.use('bmh')"
   ]
  },
  {
   "cell_type": "code",
   "execution_count": 9,
   "metadata": {},
   "outputs": [
    {
     "data": {
      "text/html": [
       "<div>\n",
       "<style>\n",
       "    .dataframe thead tr:only-child th {\n",
       "        text-align: right;\n",
       "    }\n",
       "\n",
       "    .dataframe thead th {\n",
       "        text-align: left;\n",
       "    }\n",
       "\n",
       "    .dataframe tbody tr th {\n",
       "        vertical-align: top;\n",
       "    }\n",
       "</style>\n",
       "<table border=\"1\" class=\"dataframe\">\n",
       "  <thead>\n",
       "    <tr style=\"text-align: right;\">\n",
       "      <th></th>\n",
       "      <th>algoritmo</th>\n",
       "      <th>probabilidade_erro</th>\n",
       "      <th>size_of_array</th>\n",
       "      <th>largest_sorted_subarray</th>\n",
       "      <th>k_unordered_sequence</th>\n",
       "      <th>percentual_k_unordered</th>\n",
       "      <th>percentual_maior_array</th>\n",
       "    </tr>\n",
       "  </thead>\n",
       "  <tbody>\n",
       "    <tr>\n",
       "      <th>0</th>\n",
       "      <td>merge</td>\n",
       "      <td>0.01</td>\n",
       "      <td>10000</td>\n",
       "      <td>90</td>\n",
       "      <td>962</td>\n",
       "      <td>9.62</td>\n",
       "      <td>0.90</td>\n",
       "    </tr>\n",
       "    <tr>\n",
       "      <th>1</th>\n",
       "      <td>merge</td>\n",
       "      <td>0.01</td>\n",
       "      <td>10000</td>\n",
       "      <td>66</td>\n",
       "      <td>974</td>\n",
       "      <td>9.74</td>\n",
       "      <td>0.66</td>\n",
       "    </tr>\n",
       "    <tr>\n",
       "      <th>2</th>\n",
       "      <td>merge</td>\n",
       "      <td>0.01</td>\n",
       "      <td>10000</td>\n",
       "      <td>66</td>\n",
       "      <td>974</td>\n",
       "      <td>9.74</td>\n",
       "      <td>0.66</td>\n",
       "    </tr>\n",
       "    <tr>\n",
       "      <th>3</th>\n",
       "      <td>merge</td>\n",
       "      <td>0.01</td>\n",
       "      <td>10000</td>\n",
       "      <td>67</td>\n",
       "      <td>1045</td>\n",
       "      <td>10.45</td>\n",
       "      <td>0.67</td>\n",
       "    </tr>\n",
       "    <tr>\n",
       "      <th>4</th>\n",
       "      <td>merge</td>\n",
       "      <td>0.01</td>\n",
       "      <td>10000</td>\n",
       "      <td>90</td>\n",
       "      <td>962</td>\n",
       "      <td>9.62</td>\n",
       "      <td>0.90</td>\n",
       "    </tr>\n",
       "    <tr>\n",
       "      <th>5</th>\n",
       "      <td>merge</td>\n",
       "      <td>0.01</td>\n",
       "      <td>10000</td>\n",
       "      <td>53</td>\n",
       "      <td>996</td>\n",
       "      <td>9.96</td>\n",
       "      <td>0.53</td>\n",
       "    </tr>\n",
       "    <tr>\n",
       "      <th>6</th>\n",
       "      <td>merge</td>\n",
       "      <td>0.01</td>\n",
       "      <td>10000</td>\n",
       "      <td>64</td>\n",
       "      <td>1068</td>\n",
       "      <td>10.68</td>\n",
       "      <td>0.64</td>\n",
       "    </tr>\n",
       "    <tr>\n",
       "      <th>7</th>\n",
       "      <td>merge</td>\n",
       "      <td>0.01</td>\n",
       "      <td>10000</td>\n",
       "      <td>64</td>\n",
       "      <td>1068</td>\n",
       "      <td>10.68</td>\n",
       "      <td>0.64</td>\n",
       "    </tr>\n",
       "    <tr>\n",
       "      <th>8</th>\n",
       "      <td>merge</td>\n",
       "      <td>0.01</td>\n",
       "      <td>10000</td>\n",
       "      <td>103</td>\n",
       "      <td>955</td>\n",
       "      <td>9.55</td>\n",
       "      <td>1.03</td>\n",
       "    </tr>\n",
       "    <tr>\n",
       "      <th>9</th>\n",
       "      <td>merge</td>\n",
       "      <td>0.01</td>\n",
       "      <td>10000</td>\n",
       "      <td>71</td>\n",
       "      <td>1000</td>\n",
       "      <td>10.00</td>\n",
       "      <td>0.71</td>\n",
       "    </tr>\n",
       "  </tbody>\n",
       "</table>\n",
       "</div>"
      ],
      "text/plain": [
       "  algoritmo  probabilidade_erro  size_of_array  largest_sorted_subarray  \\\n",
       "0     merge                0.01          10000                       90   \n",
       "1     merge                0.01          10000                       66   \n",
       "2     merge                0.01          10000                       66   \n",
       "3     merge                0.01          10000                       67   \n",
       "4     merge                0.01          10000                       90   \n",
       "5     merge                0.01          10000                       53   \n",
       "6     merge                0.01          10000                       64   \n",
       "7     merge                0.01          10000                       64   \n",
       "8     merge                0.01          10000                      103   \n",
       "9     merge                0.01          10000                       71   \n",
       "\n",
       "   k_unordered_sequence  percentual_k_unordered  percentual_maior_array  \n",
       "0                   962                    9.62                    0.90  \n",
       "1                   974                    9.74                    0.66  \n",
       "2                   974                    9.74                    0.66  \n",
       "3                  1045                   10.45                    0.67  \n",
       "4                   962                    9.62                    0.90  \n",
       "5                   996                    9.96                    0.53  \n",
       "6                  1068                   10.68                    0.64  \n",
       "7                  1068                   10.68                    0.64  \n",
       "8                   955                    9.55                    1.03  \n",
       "9                  1000                   10.00                    0.71  "
      ]
     },
     "execution_count": 9,
     "metadata": {},
     "output_type": "execute_result"
    }
   ],
   "source": [
    "# load dataset\n",
    "# csv = '../data/_dados_extraidos__k_unordered [001] [0001] [00001] [002] [005].csv'\n",
    "csv = '../data/_dados_para_analisar_2.csv'\n",
    "df = pd.read_csv(delimiter = ';', filepath_or_buffer = csv)\n",
    "df.head(10)"
   ]
  },
  {
   "cell_type": "code",
   "execution_count": 10,
   "metadata": {},
   "outputs": [
    {
     "data": {
      "text/html": [
       "<div>\n",
       "<style>\n",
       "    .dataframe thead tr:only-child th {\n",
       "        text-align: right;\n",
       "    }\n",
       "\n",
       "    .dataframe thead th {\n",
       "        text-align: left;\n",
       "    }\n",
       "\n",
       "    .dataframe tbody tr th {\n",
       "        vertical-align: top;\n",
       "    }\n",
       "</style>\n",
       "<table border=\"1\" class=\"dataframe\">\n",
       "  <thead>\n",
       "    <tr style=\"text-align: right;\">\n",
       "      <th></th>\n",
       "      <th>probabilidade_erro</th>\n",
       "      <th>size_of_array</th>\n",
       "      <th>largest_sorted_subarray</th>\n",
       "      <th>k_unordered_sequence</th>\n",
       "      <th>percentual_k_unordered</th>\n",
       "      <th>percentual_maior_array</th>\n",
       "    </tr>\n",
       "  </thead>\n",
       "  <tbody>\n",
       "    <tr>\n",
       "      <th>count</th>\n",
       "      <td>60000.000000</td>\n",
       "      <td>60000.000000</td>\n",
       "      <td>60000.000000</td>\n",
       "      <td>60000.000000</td>\n",
       "      <td>60000.000000</td>\n",
       "      <td>60000.000000</td>\n",
       "    </tr>\n",
       "    <tr>\n",
       "      <th>mean</th>\n",
       "      <td>0.016220</td>\n",
       "      <td>4420.000000</td>\n",
       "      <td>783.781383</td>\n",
       "      <td>330.514367</td>\n",
       "      <td>8.137760</td>\n",
       "      <td>21.345590</td>\n",
       "    </tr>\n",
       "    <tr>\n",
       "      <th>std</th>\n",
       "      <td>0.018361</td>\n",
       "      <td>4567.925981</td>\n",
       "      <td>1917.557897</td>\n",
       "      <td>648.858816</td>\n",
       "      <td>8.010176</td>\n",
       "      <td>24.754423</td>\n",
       "    </tr>\n",
       "    <tr>\n",
       "      <th>min</th>\n",
       "      <td>0.000100</td>\n",
       "      <td>100.000000</td>\n",
       "      <td>7.000000</td>\n",
       "      <td>0.000000</td>\n",
       "      <td>0.000000</td>\n",
       "      <td>0.140000</td>\n",
       "    </tr>\n",
       "    <tr>\n",
       "      <th>25%</th>\n",
       "      <td>0.001000</td>\n",
       "      <td>1000.000000</td>\n",
       "      <td>28.000000</td>\n",
       "      <td>9.000000</td>\n",
       "      <td>0.900000</td>\n",
       "      <td>2.400000</td>\n",
       "    </tr>\n",
       "    <tr>\n",
       "      <th>50%</th>\n",
       "      <td>0.010000</td>\n",
       "      <td>1000.000000</td>\n",
       "      <td>76.000000</td>\n",
       "      <td>27.000000</td>\n",
       "      <td>5.790000</td>\n",
       "      <td>13.340000</td>\n",
       "    </tr>\n",
       "    <tr>\n",
       "      <th>75%</th>\n",
       "      <td>0.020000</td>\n",
       "      <td>10000.000000</td>\n",
       "      <td>351.000000</td>\n",
       "      <td>192.000000</td>\n",
       "      <td>14.000000</td>\n",
       "      <td>29.000000</td>\n",
       "    </tr>\n",
       "    <tr>\n",
       "      <th>max</th>\n",
       "      <td>0.050000</td>\n",
       "      <td>10000.000000</td>\n",
       "      <td>10000.000000</td>\n",
       "      <td>2890.000000</td>\n",
       "      <td>28.900000</td>\n",
       "      <td>100.000000</td>\n",
       "    </tr>\n",
       "  </tbody>\n",
       "</table>\n",
       "</div>"
      ],
      "text/plain": [
       "       probabilidade_erro  size_of_array  largest_sorted_subarray  \\\n",
       "count        60000.000000   60000.000000             60000.000000   \n",
       "mean             0.016220    4420.000000               783.781383   \n",
       "std              0.018361    4567.925981              1917.557897   \n",
       "min              0.000100     100.000000                 7.000000   \n",
       "25%              0.001000    1000.000000                28.000000   \n",
       "50%              0.010000    1000.000000                76.000000   \n",
       "75%              0.020000   10000.000000               351.000000   \n",
       "max              0.050000   10000.000000             10000.000000   \n",
       "\n",
       "       k_unordered_sequence  percentual_k_unordered  percentual_maior_array  \n",
       "count          60000.000000            60000.000000            60000.000000  \n",
       "mean             330.514367                8.137760               21.345590  \n",
       "std              648.858816                8.010176               24.754423  \n",
       "min                0.000000                0.000000                0.140000  \n",
       "25%                9.000000                0.900000                2.400000  \n",
       "50%               27.000000                5.790000               13.340000  \n",
       "75%              192.000000               14.000000               29.000000  \n",
       "max             2890.000000               28.900000              100.000000  "
      ]
     },
     "execution_count": 10,
     "metadata": {},
     "output_type": "execute_result"
    }
   ],
   "source": [
    "df.describe()"
   ]
  },
  {
   "cell_type": "code",
   "execution_count": 11,
   "metadata": {},
   "outputs": [
    {
     "data": {
      "text/plain": [
       "array([ 0.01  ,  0.05  ,  0.02  ,  0.0001,  0.001 ])"
      ]
     },
     "execution_count": 11,
     "metadata": {},
     "output_type": "execute_result"
    }
   ],
   "source": [
    "df['probabilidade_erro'].unique()"
   ]
  },
  {
   "cell_type": "code",
   "execution_count": 12,
   "metadata": {},
   "outputs": [
    {
     "data": {
      "text/html": [
       "<div>\n",
       "<style>\n",
       "    .dataframe thead tr:only-child th {\n",
       "        text-align: right;\n",
       "    }\n",
       "\n",
       "    .dataframe thead th {\n",
       "        text-align: left;\n",
       "    }\n",
       "\n",
       "    .dataframe tbody tr th {\n",
       "        vertical-align: top;\n",
       "    }\n",
       "</style>\n",
       "<table border=\"1\" class=\"dataframe\">\n",
       "  <thead>\n",
       "    <tr style=\"text-align: right;\">\n",
       "      <th></th>\n",
       "      <th>count</th>\n",
       "      <th>mean</th>\n",
       "      <th>std</th>\n",
       "      <th>min</th>\n",
       "      <th>25%</th>\n",
       "      <th>50%</th>\n",
       "      <th>75%</th>\n",
       "      <th>max</th>\n",
       "    </tr>\n",
       "  </thead>\n",
       "  <tbody>\n",
       "    <tr>\n",
       "      <th>probabilidade_erro</th>\n",
       "      <td>60000.0</td>\n",
       "      <td>0.016220</td>\n",
       "      <td>0.018361</td>\n",
       "      <td>0.0001</td>\n",
       "      <td>0.001</td>\n",
       "      <td>0.01</td>\n",
       "      <td>0.02</td>\n",
       "      <td>0.05</td>\n",
       "    </tr>\n",
       "    <tr>\n",
       "      <th>size_of_array</th>\n",
       "      <td>60000.0</td>\n",
       "      <td>4420.000000</td>\n",
       "      <td>4567.925981</td>\n",
       "      <td>100.0000</td>\n",
       "      <td>1000.000</td>\n",
       "      <td>1000.00</td>\n",
       "      <td>10000.00</td>\n",
       "      <td>10000.00</td>\n",
       "    </tr>\n",
       "    <tr>\n",
       "      <th>largest_sorted_subarray</th>\n",
       "      <td>60000.0</td>\n",
       "      <td>783.781383</td>\n",
       "      <td>1917.557897</td>\n",
       "      <td>7.0000</td>\n",
       "      <td>28.000</td>\n",
       "      <td>76.00</td>\n",
       "      <td>351.00</td>\n",
       "      <td>10000.00</td>\n",
       "    </tr>\n",
       "    <tr>\n",
       "      <th>k_unordered_sequence</th>\n",
       "      <td>60000.0</td>\n",
       "      <td>330.514367</td>\n",
       "      <td>648.858816</td>\n",
       "      <td>0.0000</td>\n",
       "      <td>9.000</td>\n",
       "      <td>27.00</td>\n",
       "      <td>192.00</td>\n",
       "      <td>2890.00</td>\n",
       "    </tr>\n",
       "    <tr>\n",
       "      <th>percentual_k_unordered</th>\n",
       "      <td>60000.0</td>\n",
       "      <td>8.137760</td>\n",
       "      <td>8.010176</td>\n",
       "      <td>0.0000</td>\n",
       "      <td>0.900</td>\n",
       "      <td>5.79</td>\n",
       "      <td>14.00</td>\n",
       "      <td>28.90</td>\n",
       "    </tr>\n",
       "    <tr>\n",
       "      <th>percentual_maior_array</th>\n",
       "      <td>60000.0</td>\n",
       "      <td>21.345590</td>\n",
       "      <td>24.754423</td>\n",
       "      <td>0.1400</td>\n",
       "      <td>2.400</td>\n",
       "      <td>13.34</td>\n",
       "      <td>29.00</td>\n",
       "      <td>100.00</td>\n",
       "    </tr>\n",
       "  </tbody>\n",
       "</table>\n",
       "</div>"
      ],
      "text/plain": [
       "                           count         mean          std       min  \\\n",
       "probabilidade_erro       60000.0     0.016220     0.018361    0.0001   \n",
       "size_of_array            60000.0  4420.000000  4567.925981  100.0000   \n",
       "largest_sorted_subarray  60000.0   783.781383  1917.557897    7.0000   \n",
       "k_unordered_sequence     60000.0   330.514367   648.858816    0.0000   \n",
       "percentual_k_unordered   60000.0     8.137760     8.010176    0.0000   \n",
       "percentual_maior_array   60000.0    21.345590    24.754423    0.1400   \n",
       "\n",
       "                              25%      50%       75%       max  \n",
       "probabilidade_erro          0.001     0.01      0.02      0.05  \n",
       "size_of_array            1000.000  1000.00  10000.00  10000.00  \n",
       "largest_sorted_subarray    28.000    76.00    351.00  10000.00  \n",
       "k_unordered_sequence        9.000    27.00    192.00   2890.00  \n",
       "percentual_k_unordered      0.900     5.79     14.00     28.90  \n",
       "percentual_maior_array      2.400    13.34     29.00    100.00  "
      ]
     },
     "execution_count": 12,
     "metadata": {},
     "output_type": "execute_result"
    },
    {
     "data": {
      "text/plain": [
       "<matplotlib.figure.Figure at 0x1a1109d160>"
      ]
     },
     "metadata": {},
     "output_type": "display_data"
    }
   ],
   "source": [
    "#Visualize data\n",
    "#Let's Do Some Descriptive Analysis using\n",
    "fig = plt.figure(figsize=[20,10])\n",
    "df.describe().T\n",
    "\n",
    "# ax = sns.distplot(df['probabilidade_erro'])"
   ]
  },
  {
   "cell_type": "code",
   "execution_count": 13,
   "metadata": {},
   "outputs": [
    {
     "name": "stdout",
     "output_type": "stream",
     "text": [
      "(60000, 7)\n",
      "60000 7\n"
     ]
    }
   ],
   "source": [
    "#dimensao da matriz com os dados\n",
    "print (df.shape)\n",
    "print (df.index.size, df.columns.size)"
   ]
  },
  {
   "cell_type": "code",
   "execution_count": 14,
   "metadata": {},
   "outputs": [
    {
     "data": {
      "text/html": [
       "<div>\n",
       "<style>\n",
       "    .dataframe thead tr:only-child th {\n",
       "        text-align: right;\n",
       "    }\n",
       "\n",
       "    .dataframe thead th {\n",
       "        text-align: left;\n",
       "    }\n",
       "\n",
       "    .dataframe tbody tr th {\n",
       "        vertical-align: top;\n",
       "    }\n",
       "</style>\n",
       "<table border=\"1\" class=\"dataframe\">\n",
       "  <thead>\n",
       "    <tr style=\"text-align: right;\">\n",
       "      <th></th>\n",
       "      <th>algoritmo</th>\n",
       "      <th>probabilidade_erro</th>\n",
       "      <th>size_of_array</th>\n",
       "      <th>largest_sorted_subarray</th>\n",
       "      <th>k_unordered_sequence</th>\n",
       "      <th>percentual_k_unordered</th>\n",
       "      <th>percentual_maior_array</th>\n",
       "    </tr>\n",
       "  </thead>\n",
       "  <tbody>\n",
       "    <tr>\n",
       "      <th>48000</th>\n",
       "      <td>bubble</td>\n",
       "      <td>0.0001</td>\n",
       "      <td>10000</td>\n",
       "      <td>9846</td>\n",
       "      <td>4</td>\n",
       "      <td>0.04</td>\n",
       "      <td>98.46</td>\n",
       "    </tr>\n",
       "    <tr>\n",
       "      <th>48001</th>\n",
       "      <td>bubble</td>\n",
       "      <td>0.0001</td>\n",
       "      <td>10000</td>\n",
       "      <td>6313</td>\n",
       "      <td>3</td>\n",
       "      <td>0.03</td>\n",
       "      <td>63.13</td>\n",
       "    </tr>\n",
       "    <tr>\n",
       "      <th>48002</th>\n",
       "      <td>bubble</td>\n",
       "      <td>0.0001</td>\n",
       "      <td>10000</td>\n",
       "      <td>5404</td>\n",
       "      <td>8</td>\n",
       "      <td>0.08</td>\n",
       "      <td>54.04</td>\n",
       "    </tr>\n",
       "    <tr>\n",
       "      <th>48003</th>\n",
       "      <td>bubble</td>\n",
       "      <td>0.0001</td>\n",
       "      <td>10000</td>\n",
       "      <td>9501</td>\n",
       "      <td>5</td>\n",
       "      <td>0.05</td>\n",
       "      <td>95.01</td>\n",
       "    </tr>\n",
       "    <tr>\n",
       "      <th>48004</th>\n",
       "      <td>bubble</td>\n",
       "      <td>0.0001</td>\n",
       "      <td>10000</td>\n",
       "      <td>9766</td>\n",
       "      <td>8</td>\n",
       "      <td>0.08</td>\n",
       "      <td>97.66</td>\n",
       "    </tr>\n",
       "  </tbody>\n",
       "</table>\n",
       "</div>"
      ],
      "text/plain": [
       "      algoritmo  probabilidade_erro  size_of_array  largest_sorted_subarray  \\\n",
       "48000    bubble              0.0001          10000                     9846   \n",
       "48001    bubble              0.0001          10000                     6313   \n",
       "48002    bubble              0.0001          10000                     5404   \n",
       "48003    bubble              0.0001          10000                     9501   \n",
       "48004    bubble              0.0001          10000                     9766   \n",
       "\n",
       "       k_unordered_sequence  percentual_k_unordered  percentual_maior_array  \n",
       "48000                     4                    0.04                   98.46  \n",
       "48001                     3                    0.03                   63.13  \n",
       "48002                     8                    0.08                   54.04  \n",
       "48003                     5                    0.05                   95.01  \n",
       "48004                     8                    0.08                   97.66  "
      ]
     },
     "execution_count": 14,
     "metadata": {},
     "output_type": "execute_result"
    }
   ],
   "source": [
    "#ordena os dados por: 'algoritmo', 'probabilidade_erro', 'size_of_array'\n",
    "df.sort_values(['algoritmo', 'probabilidade_erro', 'size_of_array'], ascending = [True, True, True], inplace = True)\n",
    "df.head()"
   ]
  },
  {
   "cell_type": "code",
   "execution_count": 15,
   "metadata": {},
   "outputs": [
    {
     "data": {
      "text/plain": [
       "algoritmo\n",
       "bubble       15000\n",
       "insertion    15000\n",
       "merge        15000\n",
       "quick        15000\n",
       "dtype: int64"
      ]
     },
     "execution_count": 15,
     "metadata": {},
     "output_type": "execute_result"
    }
   ],
   "source": [
    "#quantas linhas existem para cada algoritmo\n",
    "grp_algoritmo = df.groupby('algoritmo').size()\n",
    "grp_algoritmo"
   ]
  },
  {
   "cell_type": "code",
   "execution_count": 22,
   "metadata": {},
   "outputs": [
    {
     "data": {
      "text/plain": [
       "probabilidade_erro  size_of_array  algoritmo\n",
       "0.0001              10000          bubble       3000\n",
       "                                   insertion    3000\n",
       "                                   merge        3000\n",
       "                                   quick        3000\n",
       "0.0010              1000           bubble       3000\n",
       "                                   insertion    3000\n",
       "                                   merge        3000\n",
       "                                   quick        3000\n",
       "0.0100              100            bubble       1000\n",
       "                                   insertion    1000\n",
       "                                   merge        1000\n",
       "                                   quick        1000\n",
       "                    1000           bubble       1000\n",
       "                                   insertion    1000\n",
       "                                   merge        1000\n",
       "                                   quick        1000\n",
       "                    10000          bubble       1000\n",
       "                                   insertion    1000\n",
       "                                   merge        1000\n",
       "                                   quick        1000\n",
       "0.0200              100            bubble       1000\n",
       "                                   insertion    1000\n",
       "                                   merge        1000\n",
       "                                   quick        1000\n",
       "                    1000           bubble       1000\n",
       "                                   insertion    1000\n",
       "                                   merge        1000\n",
       "                                   quick        1000\n",
       "                    10000          bubble       1000\n",
       "                                   insertion    1000\n",
       "                                   merge        1000\n",
       "                                   quick        1000\n",
       "0.0500              100            bubble       1000\n",
       "                                   insertion    1000\n",
       "                                   merge        1000\n",
       "                                   quick        1000\n",
       "                    1000           bubble       1000\n",
       "                                   insertion    1000\n",
       "                                   merge        1000\n",
       "                                   quick        1000\n",
       "                    10000          bubble       1000\n",
       "                                   insertion    1000\n",
       "                                   merge        1000\n",
       "                                   quick        1000\n",
       "dtype: int64"
      ]
     },
     "execution_count": 22,
     "metadata": {},
     "output_type": "execute_result"
    }
   ],
   "source": [
    "#quantas linhas existem para cada 'algoritmo', 'probabilidade_erro', 'size_of_array'\n",
    "grp_algoritmo = df.groupby(['probabilidade_erro', 'size_of_array', 'algoritmo'] ).size()\n",
    "grp_algoritmo"
   ]
  },
  {
   "cell_type": "code",
   "execution_count": 20,
   "metadata": {},
   "outputs": [
    {
     "data": {
      "text/plain": [
       "probabilidade_erro\n",
       "0.0001    12000\n",
       "0.0010    12000\n",
       "0.0100    12000\n",
       "0.0200    12000\n",
       "0.0500    12000\n",
       "dtype: int64"
      ]
     },
     "execution_count": 20,
     "metadata": {},
     "output_type": "execute_result"
    }
   ],
   "source": [
    "#quantas linhas existem para cada 'probabilidade_erro'\n",
    "grp_prob_erro = df.groupby(['probabilidade_erro']).size()\n",
    "grp_prob_erro"
   ]
  },
  {
   "cell_type": "code",
   "execution_count": 18,
   "metadata": {},
   "outputs": [
    {
     "data": {
      "text/plain": [
       "probabilidade_erro  algoritmo  size_of_array\n",
       "0.0001              bubble     10000            3000\n",
       "                    insertion  10000            3000\n",
       "                    merge      10000            3000\n",
       "                    quick      10000            3000\n",
       "0.0010              bubble     1000             3000\n",
       "                    insertion  1000             3000\n",
       "                    merge      1000             3000\n",
       "                    quick      1000             3000\n",
       "0.0100              bubble     100              1000\n",
       "                               1000             1000\n",
       "                               10000            1000\n",
       "                    insertion  100              1000\n",
       "                               1000             1000\n",
       "                               10000            1000\n",
       "                    merge      100              1000\n",
       "                               1000             1000\n",
       "                               10000            1000\n",
       "                    quick      100              1000\n",
       "                               1000             1000\n",
       "                               10000            1000\n",
       "0.0200              bubble     100              1000\n",
       "                               1000             1000\n",
       "                               10000            1000\n",
       "                    insertion  100              1000\n",
       "                               1000             1000\n",
       "                               10000            1000\n",
       "                    merge      100              1000\n",
       "                               1000             1000\n",
       "                               10000            1000\n",
       "                    quick      100              1000\n",
       "                               1000             1000\n",
       "                               10000            1000\n",
       "0.0500              bubble     100              1000\n",
       "                               1000             1000\n",
       "                               10000            1000\n",
       "                    insertion  100              1000\n",
       "                               1000             1000\n",
       "                               10000            1000\n",
       "                    merge      100              1000\n",
       "                               1000             1000\n",
       "                               10000            1000\n",
       "                    quick      100              1000\n",
       "                               1000             1000\n",
       "                               10000            1000\n",
       "dtype: int64"
      ]
     },
     "execution_count": 18,
     "metadata": {},
     "output_type": "execute_result"
    }
   ],
   "source": [
    "#quantas linhas existem para cada 'probabilidade_erro','algoritmo','size_of_array'\n",
    "grp_prob_erro = df.groupby(['probabilidade_erro','algoritmo','size_of_array']).size()\n",
    "grp_prob_erro"
   ]
  },
  {
   "cell_type": "code",
   "execution_count": 19,
   "metadata": {},
   "outputs": [
    {
     "data": {
      "text/plain": [
       "size_of_array\n",
       "100      12000\n",
       "1000     24000\n",
       "10000    24000\n",
       "dtype: int64"
      ]
     },
     "execution_count": 19,
     "metadata": {},
     "output_type": "execute_result"
    }
   ],
   "source": [
    "#quantas linhas existem para cada 'size_of_array'\n",
    "grp_size = df.groupby(['size_of_array']).size()\n",
    "grp_size"
   ]
  },
  {
   "cell_type": "code",
   "execution_count": 23,
   "metadata": {},
   "outputs": [
    {
     "data": {
      "text/plain": [
       "probabilidade_erro  size_of_array  algoritmo\n",
       "0.0001              10000          bubble       3000\n",
       "                                   insertion    3000\n",
       "                                   merge        3000\n",
       "                                   quick        3000\n",
       "0.0010              1000           bubble       3000\n",
       "                                   insertion    3000\n",
       "                                   merge        3000\n",
       "                                   quick        3000\n",
       "0.0100              100            bubble       1000\n",
       "                                   insertion    1000\n",
       "                                   merge        1000\n",
       "                                   quick        1000\n",
       "                    1000           bubble       1000\n",
       "                                   insertion    1000\n",
       "                                   merge        1000\n",
       "                                   quick        1000\n",
       "                    10000          bubble       1000\n",
       "                                   insertion    1000\n",
       "                                   merge        1000\n",
       "                                   quick        1000\n",
       "0.0200              100            bubble       1000\n",
       "                                   insertion    1000\n",
       "                                   merge        1000\n",
       "                                   quick        1000\n",
       "                    1000           bubble       1000\n",
       "                                   insertion    1000\n",
       "                                   merge        1000\n",
       "                                   quick        1000\n",
       "                    10000          bubble       1000\n",
       "                                   insertion    1000\n",
       "                                   merge        1000\n",
       "                                   quick        1000\n",
       "0.0500              100            bubble       1000\n",
       "                                   insertion    1000\n",
       "                                   merge        1000\n",
       "                                   quick        1000\n",
       "                    1000           bubble       1000\n",
       "                                   insertion    1000\n",
       "                                   merge        1000\n",
       "                                   quick        1000\n",
       "                    10000          bubble       1000\n",
       "                                   insertion    1000\n",
       "                                   merge        1000\n",
       "                                   quick        1000\n",
       "dtype: int64"
      ]
     },
     "execution_count": 23,
     "metadata": {},
     "output_type": "execute_result"
    }
   ],
   "source": [
    "#quantas linhas existem para cada 'probabilidade_erro', 'size_of_array','algoritmo'\n",
    "grp_prob_erro = df.groupby(['probabilidade_erro', 'size_of_array','algoritmo']).size()\n",
    "grp_prob_erro"
   ]
  },
  {
   "cell_type": "code",
   "execution_count": 24,
   "metadata": {},
   "outputs": [
    {
     "data": {
      "text/plain": [
       "algoritmo\n",
       "bubble       15000\n",
       "insertion    15000\n",
       "merge        15000\n",
       "quick        15000\n",
       "dtype: int64"
      ]
     },
     "execution_count": 24,
     "metadata": {},
     "output_type": "execute_result"
    }
   ],
   "source": [
    "# numero de amostras de cada algoritmo\n",
    "temp = df.groupby('algoritmo').size()\n",
    "temp"
   ]
  },
  {
   "cell_type": "code",
   "execution_count": 25,
   "metadata": {},
   "outputs": [
    {
     "data": {
      "text/html": [
       "<div>\n",
       "<style>\n",
       "    .dataframe thead tr:only-child th {\n",
       "        text-align: right;\n",
       "    }\n",
       "\n",
       "    .dataframe thead th {\n",
       "        text-align: left;\n",
       "    }\n",
       "\n",
       "    .dataframe tbody tr th {\n",
       "        vertical-align: top;\n",
       "    }\n",
       "</style>\n",
       "<table border=\"1\" class=\"dataframe\">\n",
       "  <thead>\n",
       "    <tr style=\"text-align: right;\">\n",
       "      <th></th>\n",
       "      <th>0</th>\n",
       "    </tr>\n",
       "    <tr>\n",
       "      <th>probabilidade_erro</th>\n",
       "      <th></th>\n",
       "    </tr>\n",
       "  </thead>\n",
       "  <tbody>\n",
       "    <tr>\n",
       "      <th>0.0001</th>\n",
       "      <td>12000</td>\n",
       "    </tr>\n",
       "    <tr>\n",
       "      <th>0.0010</th>\n",
       "      <td>12000</td>\n",
       "    </tr>\n",
       "    <tr>\n",
       "      <th>0.0100</th>\n",
       "      <td>12000</td>\n",
       "    </tr>\n",
       "    <tr>\n",
       "      <th>0.0200</th>\n",
       "      <td>12000</td>\n",
       "    </tr>\n",
       "    <tr>\n",
       "      <th>0.0500</th>\n",
       "      <td>12000</td>\n",
       "    </tr>\n",
       "  </tbody>\n",
       "</table>\n",
       "</div>"
      ],
      "text/plain": [
       "                        0\n",
       "probabilidade_erro       \n",
       "0.0001              12000\n",
       "0.0010              12000\n",
       "0.0100              12000\n",
       "0.0200              12000\n",
       "0.0500              12000"
      ]
     },
     "execution_count": 25,
     "metadata": {},
     "output_type": "execute_result"
    }
   ],
   "source": [
    "# numero de amostras de cada probabilidade_erro\n",
    "temp = df.groupby('probabilidade_erro').size()\n",
    "temp = pd.DataFrame(data=temp)\n",
    "temp\n"
   ]
  },
  {
   "cell_type": "code",
   "execution_count": 26,
   "metadata": {},
   "outputs": [
    {
     "data": {
      "text/plain": [
       "<matplotlib.axes._subplots.AxesSubplot at 0x1a11091ac8>"
      ]
     },
     "execution_count": 26,
     "metadata": {},
     "output_type": "execute_result"
    },
    {
     "data": {
      "image/png": "[encoded data removed]",
      "text/plain": [
       "<matplotlib.figure.Figure at 0x1a11097b00>"
      ]
     },
     "metadata": {},
     "output_type": "display_data"
    }
   ],
   "source": [
    "temp.plot(kind = 'bar', style = 'b', alpha = 0.9, title = \"Prob. Erro X Quantidade Entradas\", figsize=[20,5] )"
   ]
  },
  {
   "cell_type": "code",
   "execution_count": 27,
   "metadata": {},
   "outputs": [
    {
     "data": {
      "text/plain": [
       "<matplotlib.axes._subplots.AxesSubplot at 0x1a11091c18>"
      ]
     },
     "execution_count": 27,
     "metadata": {},
     "output_type": "execute_result"
    },
    {
     "data": {
      "image/png": "[encoded data removed]",
      "text/plain": [
       "<matplotlib.figure.Figure at 0x1a11387e10>"
      ]
     },
     "metadata": {},
     "output_type": "display_data"
    }
   ],
   "source": [
    "sns.reset_orig()\n",
    "# plt.style.use('seaborn-whitegrid')\n",
    "# plt.style.use('seaborn-pastel')\n",
    "# plt.style.use('seaborn-colorblind')\n",
    "# plt.style.use('seaborn-bright')\n",
    "# plt.style.use('grayscale')\n",
    "# plt.style.use('ggplot')\n",
    "# plt.style.use('fivethirtyeight')\n",
    "# plt.style.use('dark_background')\n",
    "\n",
    "\n",
    "fig = plt.figure(figsize=[15,4])\n",
    "plt.title('Prob. Erro X Quantidade Linhas')\n",
    "sns.barplot(data=temp, x=temp.index, y=temp.columns[0]) #, hue=temp.index )\n",
    "\n"
   ]
  },
  {
   "cell_type": "code",
   "execution_count": 28,
   "metadata": {},
   "outputs": [
    {
     "data": {
      "text/plain": [
       "size_of_array\n",
       "100      12000\n",
       "1000     24000\n",
       "10000    24000\n",
       "dtype: int64"
      ]
     },
     "execution_count": 28,
     "metadata": {},
     "output_type": "execute_result"
    }
   ],
   "source": [
    "# numero de amostras de cada size_of_array\n",
    "temp = df.groupby('size_of_array').size()\n",
    "temp"
   ]
  },
  {
   "cell_type": "code",
   "execution_count": 29,
   "metadata": {},
   "outputs": [
    {
     "data": {
      "text/plain": [
       "size_of_array  probabilidade_erro\n",
       "100            0.0100                 4000\n",
       "               0.0200                 4000\n",
       "               0.0500                 4000\n",
       "1000           0.0010                12000\n",
       "               0.0100                 4000\n",
       "               0.0200                 4000\n",
       "               0.0500                 4000\n",
       "10000          0.0001                12000\n",
       "               0.0100                 4000\n",
       "               0.0200                 4000\n",
       "               0.0500                 4000\n",
       "dtype: int64"
      ]
     },
     "execution_count": 29,
     "metadata": {},
     "output_type": "execute_result"
    }
   ],
   "source": [
    "#quantas linhas existem para cada 'size_of_array', 'probabilidade_erro','algoritmo'\n",
    "temp = df.groupby(['size_of_array', 'probabilidade_erro']).size()\n",
    "temp"
   ]
  },
  {
   "cell_type": "code",
   "execution_count": 139,
   "metadata": {},
   "outputs": [
    {
     "data": {
      "text/plain": [
       "<matplotlib.figure.Figure at 0x1a1d877630>"
      ]
     },
     "metadata": {},
     "output_type": "display_data"
    }
   ],
   "source": [
    "fig = plt.figure(figsize=[20,30])\n",
    "# temp = temp.add_suffix('_Count').reset_index()\n",
    "temp = pd.DataFrame(data=temp, columns=temp.columns )\n",
    "\n",
    "\n",
    "# temp.plot(kind = 'bar', style = 'b', alpha = 0.4, title = \"Total Values for Country\")\n",
    "# sns.barplot(data=temp, x=temp['probabilidade_erro'])\n",
    "#temp['probabilidade_erro']\n",
    "# ax = sns.distplot(temp)"
   ]
  },
  {
   "cell_type": "code",
   "execution_count": 30,
   "metadata": {},
   "outputs": [
    {
     "data": {
      "text/html": [
       "<div>\n",
       "<style>\n",
       "    .dataframe thead tr:only-child th {\n",
       "        text-align: right;\n",
       "    }\n",
       "\n",
       "    .dataframe thead th {\n",
       "        text-align: left;\n",
       "    }\n",
       "\n",
       "    .dataframe tbody tr th {\n",
       "        vertical-align: top;\n",
       "    }\n",
       "</style>\n",
       "<table border=\"1\" class=\"dataframe\">\n",
       "  <thead>\n",
       "    <tr style=\"text-align: right;\">\n",
       "      <th></th>\n",
       "      <th>algoritmo</th>\n",
       "      <th>probabilidade_erro</th>\n",
       "      <th>size_of_array</th>\n",
       "      <th>largest_sorted_subarray</th>\n",
       "      <th>k_unordered_sequence</th>\n",
       "      <th>percentual_k_unordered</th>\n",
       "      <th>percentual_maior_array</th>\n",
       "    </tr>\n",
       "  </thead>\n",
       "  <tbody>\n",
       "    <tr>\n",
       "      <th>48000</th>\n",
       "      <td>bubble</td>\n",
       "      <td>0.0001</td>\n",
       "      <td>10000</td>\n",
       "      <td>9846</td>\n",
       "      <td>4</td>\n",
       "      <td>0.04</td>\n",
       "      <td>98.46</td>\n",
       "    </tr>\n",
       "    <tr>\n",
       "      <th>48001</th>\n",
       "      <td>bubble</td>\n",
       "      <td>0.0001</td>\n",
       "      <td>10000</td>\n",
       "      <td>6313</td>\n",
       "      <td>3</td>\n",
       "      <td>0.03</td>\n",
       "      <td>63.13</td>\n",
       "    </tr>\n",
       "    <tr>\n",
       "      <th>48002</th>\n",
       "      <td>bubble</td>\n",
       "      <td>0.0001</td>\n",
       "      <td>10000</td>\n",
       "      <td>5404</td>\n",
       "      <td>8</td>\n",
       "      <td>0.08</td>\n",
       "      <td>54.04</td>\n",
       "    </tr>\n",
       "    <tr>\n",
       "      <th>48003</th>\n",
       "      <td>bubble</td>\n",
       "      <td>0.0001</td>\n",
       "      <td>10000</td>\n",
       "      <td>9501</td>\n",
       "      <td>5</td>\n",
       "      <td>0.05</td>\n",
       "      <td>95.01</td>\n",
       "    </tr>\n",
       "    <tr>\n",
       "      <th>48004</th>\n",
       "      <td>bubble</td>\n",
       "      <td>0.0001</td>\n",
       "      <td>10000</td>\n",
       "      <td>9766</td>\n",
       "      <td>8</td>\n",
       "      <td>0.08</td>\n",
       "      <td>97.66</td>\n",
       "    </tr>\n",
       "  </tbody>\n",
       "</table>\n",
       "</div>"
      ],
      "text/plain": [
       "      algoritmo  probabilidade_erro  size_of_array  largest_sorted_subarray  \\\n",
       "48000    bubble              0.0001          10000                     9846   \n",
       "48001    bubble              0.0001          10000                     6313   \n",
       "48002    bubble              0.0001          10000                     5404   \n",
       "48003    bubble              0.0001          10000                     9501   \n",
       "48004    bubble              0.0001          10000                     9766   \n",
       "\n",
       "       k_unordered_sequence  percentual_k_unordered  percentual_maior_array  \n",
       "48000                     4                    0.04                   98.46  \n",
       "48001                     3                    0.03                   63.13  \n",
       "48002                     8                    0.08                   54.04  \n",
       "48003                     5                    0.05                   95.01  \n",
       "48004                     8                    0.08                   97.66  "
      ]
     },
     "execution_count": 30,
     "metadata": {},
     "output_type": "execute_result"
    }
   ],
   "source": [
    "df.head()"
   ]
  },
  {
   "cell_type": "code",
   "execution_count": 28,
   "metadata": {
    "collapsed": true
   },
   "outputs": [],
   "source": [
    "#df.to_csv('_dados_para_analisar.csv', index=False, sep=';')"
   ]
  },
  {
   "cell_type": "code",
   "execution_count": null,
   "metadata": {
    "collapsed": true
   },
   "outputs": [],
   "source": []
  }
 ],
 "metadata": {
  "kernelspec": {
   "display_name": "Python 3",
   "language": "python",
   "name": "python3"
  },
  "language_info": {
   "codemirror_mode": {
    "name": "ipython",
    "version": 3
   },
   "file_extension": ".py",
   "mimetype": "text/x-python",
   "name": "python",
   "nbconvert_exporter": "python",
   "pygments_lexer": "ipython3",
   "version": "3.6.3"
  }
 },
 "nbformat": 4,
 "nbformat_minor": 2
}
