{
 "cells": [
  {
   "cell_type": "code",
   "execution_count": 1,
   "metadata": {
    "collapsed": true
   },
   "outputs": [],
   "source": [
    "#imports\n",
    "import os\n",
    "\n",
    "import matplotlib.pyplot as plt\n",
    "\n",
    "import numpy as np\n",
    "import pandas as pd\n",
    "\n",
    "import seaborn as sns\n",
    "plt.style.use('seaborn-whitegrid')\n",
    "\n",
    "%matplotlib inline  \n",
    "\n",
    "# ========================================================\n",
    "# estilos de graficos :\n",
    "# >>  https://tonysyu.github.io/raw_content/matplotlib-style-gallery/gallery.html\n",
    "# ========================================================\n",
    "# plt.style.use('seaborn-whitegrid')\n",
    "# plt.style.use('seaborn-pastel')\n",
    "# plt.style.use('seaborn-colorblind')\n",
    "# plt.style.use('seaborn-bright')\n",
    "# plt.style.use('grayscale')\n",
    "# plt.style.use('ggplot')\n",
    "# plt.style.use('fivethirtyeight')\n",
    "# plt.style.use('dark_background')\n",
    "# plt.style.use('classic')\n",
    "# plt.style.use('bmh')"
   ]
  },
  {
   "cell_type": "code",
   "execution_count": 2,
   "metadata": {},
   "outputs": [
    {
     "data": {
      "text/html": [
       "<div>\n",
       "<style>\n",
       "    .dataframe thead tr:only-child th {\n",
       "        text-align: right;\n",
       "    }\n",
       "\n",
       "    .dataframe thead th {\n",
       "        text-align: left;\n",
       "    }\n",
       "\n",
       "    .dataframe tbody tr th {\n",
       "        vertical-align: top;\n",
       "    }\n",
       "</style>\n",
       "<table border=\"1\" class=\"dataframe\">\n",
       "  <thead>\n",
       "    <tr style=\"text-align: right;\">\n",
       "      <th></th>\n",
       "      <th>algoritmo</th>\n",
       "      <th>probabilidade_erro</th>\n",
       "      <th>size_of_array</th>\n",
       "      <th>largest_sorted_subarray</th>\n",
       "      <th>k_unordered_sequence</th>\n",
       "      <th>percentual_k_unordered</th>\n",
       "    </tr>\n",
       "  </thead>\n",
       "  <tbody>\n",
       "    <tr>\n",
       "      <th>0</th>\n",
       "      <td>merge</td>\n",
       "      <td>0.01</td>\n",
       "      <td>10000</td>\n",
       "      <td>90</td>\n",
       "      <td>962</td>\n",
       "      <td>9.62</td>\n",
       "    </tr>\n",
       "    <tr>\n",
       "      <th>1</th>\n",
       "      <td>merge</td>\n",
       "      <td>0.01</td>\n",
       "      <td>10000</td>\n",
       "      <td>66</td>\n",
       "      <td>974</td>\n",
       "      <td>9.74</td>\n",
       "    </tr>\n",
       "    <tr>\n",
       "      <th>2</th>\n",
       "      <td>merge</td>\n",
       "      <td>0.01</td>\n",
       "      <td>10000</td>\n",
       "      <td>66</td>\n",
       "      <td>974</td>\n",
       "      <td>9.74</td>\n",
       "    </tr>\n",
       "    <tr>\n",
       "      <th>3</th>\n",
       "      <td>merge</td>\n",
       "      <td>0.01</td>\n",
       "      <td>10000</td>\n",
       "      <td>67</td>\n",
       "      <td>1045</td>\n",
       "      <td>10.45</td>\n",
       "    </tr>\n",
       "    <tr>\n",
       "      <th>4</th>\n",
       "      <td>merge</td>\n",
       "      <td>0.01</td>\n",
       "      <td>10000</td>\n",
       "      <td>90</td>\n",
       "      <td>962</td>\n",
       "      <td>9.62</td>\n",
       "    </tr>\n",
       "    <tr>\n",
       "      <th>5</th>\n",
       "      <td>merge</td>\n",
       "      <td>0.01</td>\n",
       "      <td>10000</td>\n",
       "      <td>53</td>\n",
       "      <td>996</td>\n",
       "      <td>9.96</td>\n",
       "    </tr>\n",
       "    <tr>\n",
       "      <th>6</th>\n",
       "      <td>merge</td>\n",
       "      <td>0.01</td>\n",
       "      <td>10000</td>\n",
       "      <td>64</td>\n",
       "      <td>1068</td>\n",
       "      <td>10.68</td>\n",
       "    </tr>\n",
       "    <tr>\n",
       "      <th>7</th>\n",
       "      <td>merge</td>\n",
       "      <td>0.01</td>\n",
       "      <td>10000</td>\n",
       "      <td>64</td>\n",
       "      <td>1068</td>\n",
       "      <td>10.68</td>\n",
       "    </tr>\n",
       "    <tr>\n",
       "      <th>8</th>\n",
       "      <td>merge</td>\n",
       "      <td>0.01</td>\n",
       "      <td>10000</td>\n",
       "      <td>103</td>\n",
       "      <td>955</td>\n",
       "      <td>9.55</td>\n",
       "    </tr>\n",
       "    <tr>\n",
       "      <th>9</th>\n",
       "      <td>merge</td>\n",
       "      <td>0.01</td>\n",
       "      <td>10000</td>\n",
       "      <td>71</td>\n",
       "      <td>1000</td>\n",
       "      <td>10.00</td>\n",
       "    </tr>\n",
       "  </tbody>\n",
       "</table>\n",
       "</div>"
      ],
      "text/plain": [
       "  algoritmo probabilidade_erro  size_of_array  largest_sorted_subarray  \\\n",
       "0     merge               0.01          10000                       90   \n",
       "1     merge               0.01          10000                       66   \n",
       "2     merge               0.01          10000                       66   \n",
       "3     merge               0.01          10000                       67   \n",
       "4     merge               0.01          10000                       90   \n",
       "5     merge               0.01          10000                       53   \n",
       "6     merge               0.01          10000                       64   \n",
       "7     merge               0.01          10000                       64   \n",
       "8     merge               0.01          10000                      103   \n",
       "9     merge               0.01          10000                       71   \n",
       "\n",
       "   k_unordered_sequence  percentual_k_unordered  \n",
       "0                   962                    9.62  \n",
       "1                   974                    9.74  \n",
       "2                   974                    9.74  \n",
       "3                  1045                   10.45  \n",
       "4                   962                    9.62  \n",
       "5                   996                    9.96  \n",
       "6                  1068                   10.68  \n",
       "7                  1068                   10.68  \n",
       "8                   955                    9.55  \n",
       "9                  1000                   10.00  "
      ]
     },
     "execution_count": 2,
     "metadata": {},
     "output_type": "execute_result"
    }
   ],
   "source": [
    "# load dataset\n",
    "# csv = '../data/_dados_extraidos__k_unordered [001] [0001] [00001] [002] [005].csv'\n",
    "csv = '../data/_dados_extraidos__k_unordered [1 div N] [001] [002] [005].csv'\n",
    "df = pd.read_csv(delimiter = ';', filepath_or_buffer = csv)\n",
    "df.head(10)"
   ]
  },
  {
   "cell_type": "code",
   "execution_count": 3,
   "metadata": {},
   "outputs": [
    {
     "data": {
      "text/html": [
       "<div>\n",
       "<style>\n",
       "    .dataframe thead tr:only-child th {\n",
       "        text-align: right;\n",
       "    }\n",
       "\n",
       "    .dataframe thead th {\n",
       "        text-align: left;\n",
       "    }\n",
       "\n",
       "    .dataframe tbody tr th {\n",
       "        vertical-align: top;\n",
       "    }\n",
       "</style>\n",
       "<table border=\"1\" class=\"dataframe\">\n",
       "  <thead>\n",
       "    <tr style=\"text-align: right;\">\n",
       "      <th></th>\n",
       "      <th>size_of_array</th>\n",
       "      <th>largest_sorted_subarray</th>\n",
       "      <th>k_unordered_sequence</th>\n",
       "      <th>percentual_k_unordered</th>\n",
       "    </tr>\n",
       "  </thead>\n",
       "  <tbody>\n",
       "    <tr>\n",
       "      <th>count</th>\n",
       "      <td>48000.00000</td>\n",
       "      <td>48000.000000</td>\n",
       "      <td>48000.000000</td>\n",
       "      <td>48000.000000</td>\n",
       "    </tr>\n",
       "    <tr>\n",
       "      <th>mean</th>\n",
       "      <td>3700.00000</td>\n",
       "      <td>363.471000</td>\n",
       "      <td>402.000104</td>\n",
       "      <td>10.268287</td>\n",
       "    </tr>\n",
       "    <tr>\n",
       "      <th>std</th>\n",
       "      <td>4469.94589</td>\n",
       "      <td>1280.251459</td>\n",
       "      <td>706.931659</td>\n",
       "      <td>7.759825</td>\n",
       "    </tr>\n",
       "    <tr>\n",
       "      <th>min</th>\n",
       "      <td>100.00000</td>\n",
       "      <td>7.000000</td>\n",
       "      <td>0.000000</td>\n",
       "      <td>0.000000</td>\n",
       "    </tr>\n",
       "    <tr>\n",
       "      <th>25%</th>\n",
       "      <td>100.00000</td>\n",
       "      <td>23.000000</td>\n",
       "      <td>9.000000</td>\n",
       "      <td>4.000000</td>\n",
       "    </tr>\n",
       "    <tr>\n",
       "      <th>50%</th>\n",
       "      <td>1000.00000</td>\n",
       "      <td>44.000000</td>\n",
       "      <td>55.000000</td>\n",
       "      <td>9.500000</td>\n",
       "    </tr>\n",
       "    <tr>\n",
       "      <th>75%</th>\n",
       "      <td>10000.00000</td>\n",
       "      <td>120.000000</td>\n",
       "      <td>277.250000</td>\n",
       "      <td>16.000000</td>\n",
       "    </tr>\n",
       "    <tr>\n",
       "      <th>max</th>\n",
       "      <td>10000.00000</td>\n",
       "      <td>10000.000000</td>\n",
       "      <td>2890.000000</td>\n",
       "      <td>28.900000</td>\n",
       "    </tr>\n",
       "  </tbody>\n",
       "</table>\n",
       "</div>"
      ],
      "text/plain": [
       "       size_of_array  largest_sorted_subarray  k_unordered_sequence  \\\n",
       "count    48000.00000             48000.000000          48000.000000   \n",
       "mean      3700.00000               363.471000            402.000104   \n",
       "std       4469.94589              1280.251459            706.931659   \n",
       "min        100.00000                 7.000000              0.000000   \n",
       "25%        100.00000                23.000000              9.000000   \n",
       "50%       1000.00000                44.000000             55.000000   \n",
       "75%      10000.00000               120.000000            277.250000   \n",
       "max      10000.00000             10000.000000           2890.000000   \n",
       "\n",
       "       percentual_k_unordered  \n",
       "count            48000.000000  \n",
       "mean                10.268287  \n",
       "std                  7.759825  \n",
       "min                  0.000000  \n",
       "25%                  4.000000  \n",
       "50%                  9.500000  \n",
       "75%                 16.000000  \n",
       "max                 28.900000  "
      ]
     },
     "execution_count": 3,
     "metadata": {},
     "output_type": "execute_result"
    }
   ],
   "source": [
    "df.describe()"
   ]
  },
  {
   "cell_type": "code",
   "execution_count": 4,
   "metadata": {},
   "outputs": [
    {
     "data": {
      "text/plain": [
       "Index(['algoritmo', 'probabilidade_erro', 'size_of_array',\n",
       "       'largest_sorted_subarray', 'k_unordered_sequence',\n",
       "       'percentual_k_unordered'],\n",
       "      dtype='object')"
      ]
     },
     "execution_count": 4,
     "metadata": {},
     "output_type": "execute_result"
    }
   ],
   "source": [
    "df.columns"
   ]
  },
  {
   "cell_type": "code",
   "execution_count": 25,
   "metadata": {},
   "outputs": [
    {
     "data": {
      "image/png": "[encoded data removed]",
      "text/plain": [
       "<matplotlib.figure.Figure at 0x111ef06a0>"
      ]
     },
     "metadata": {},
     "output_type": "display_data"
    }
   ],
   "source": [
    "#Visualize data\n",
    "#Let's Do Some Descriptive Analysis using\n",
    "fig = plt.figure(figsize=[20,10])\n",
    "df.describe().T\n",
    "\n",
    "ax = sns.distplot(df['probabilidade_erro'])"
   ]
  },
  {
   "cell_type": "code",
   "execution_count": 127,
   "metadata": {},
   "outputs": [
    {
     "name": "stdout",
     "output_type": "stream",
     "text": [
      "(48000, 6)\n",
      "48000 6\n"
     ]
    }
   ],
   "source": [
    "#dimensao da matriz com os dados\n",
    "print (df.shape)\n",
    "print (df.index.size, df.columns.size)"
   ]
  },
  {
   "cell_type": "code",
   "execution_count": 128,
   "metadata": {},
   "outputs": [
    {
     "data": {
      "text/html": [
       "<div>\n",
       "<style>\n",
       "    .dataframe thead tr:only-child th {\n",
       "        text-align: right;\n",
       "    }\n",
       "\n",
       "    .dataframe thead th {\n",
       "        text-align: left;\n",
       "    }\n",
       "\n",
       "    .dataframe tbody tr th {\n",
       "        vertical-align: top;\n",
       "    }\n",
       "</style>\n",
       "<table border=\"1\" class=\"dataframe\">\n",
       "  <thead>\n",
       "    <tr style=\"text-align: right;\">\n",
       "      <th></th>\n",
       "      <th>algoritmo</th>\n",
       "      <th>probabilidade_erro</th>\n",
       "      <th>size_of_array</th>\n",
       "      <th>largest_sorted_subarray</th>\n",
       "      <th>k_unordered_sequence</th>\n",
       "      <th>percentual_k_unordered</th>\n",
       "    </tr>\n",
       "  </thead>\n",
       "  <tbody>\n",
       "    <tr>\n",
       "      <th>7000</th>\n",
       "      <td>bubble</td>\n",
       "      <td>0.01</td>\n",
       "      <td>100</td>\n",
       "      <td>78</td>\n",
       "      <td>2</td>\n",
       "      <td>2.0</td>\n",
       "    </tr>\n",
       "    <tr>\n",
       "      <th>7001</th>\n",
       "      <td>bubble</td>\n",
       "      <td>0.01</td>\n",
       "      <td>100</td>\n",
       "      <td>61</td>\n",
       "      <td>5</td>\n",
       "      <td>5.0</td>\n",
       "    </tr>\n",
       "    <tr>\n",
       "      <th>7002</th>\n",
       "      <td>bubble</td>\n",
       "      <td>0.01</td>\n",
       "      <td>100</td>\n",
       "      <td>61</td>\n",
       "      <td>5</td>\n",
       "      <td>5.0</td>\n",
       "    </tr>\n",
       "    <tr>\n",
       "      <th>7003</th>\n",
       "      <td>bubble</td>\n",
       "      <td>0.01</td>\n",
       "      <td>100</td>\n",
       "      <td>76</td>\n",
       "      <td>3</td>\n",
       "      <td>3.0</td>\n",
       "    </tr>\n",
       "    <tr>\n",
       "      <th>7004</th>\n",
       "      <td>bubble</td>\n",
       "      <td>0.01</td>\n",
       "      <td>100</td>\n",
       "      <td>61</td>\n",
       "      <td>5</td>\n",
       "      <td>5.0</td>\n",
       "    </tr>\n",
       "  </tbody>\n",
       "</table>\n",
       "</div>"
      ],
      "text/plain": [
       "     algoritmo probabilidade_erro  size_of_array  largest_sorted_subarray  \\\n",
       "7000    bubble               0.01            100                       78   \n",
       "7001    bubble               0.01            100                       61   \n",
       "7002    bubble               0.01            100                       61   \n",
       "7003    bubble               0.01            100                       76   \n",
       "7004    bubble               0.01            100                       61   \n",
       "\n",
       "      k_unordered_sequence  percentual_k_unordered  \n",
       "7000                     2                     2.0  \n",
       "7001                     5                     5.0  \n",
       "7002                     5                     5.0  \n",
       "7003                     3                     3.0  \n",
       "7004                     5                     5.0  "
      ]
     },
     "execution_count": 128,
     "metadata": {},
     "output_type": "execute_result"
    }
   ],
   "source": [
    "#ordena os dados por: 'algoritmo', 'probabilidade_erro', 'size_of_array'\n",
    "df.sort_values(['algoritmo', 'probabilidade_erro', 'size_of_array'], ascending = [True, True, True], inplace = True)\n",
    "df.head()"
   ]
  },
  {
   "cell_type": "code",
   "execution_count": 129,
   "metadata": {},
   "outputs": [
    {
     "data": {
      "text/plain": [
       "algoritmo\n",
       "bubble       12000\n",
       "insertion    12000\n",
       "merge        12000\n",
       "quick        12000\n",
       "dtype: int64"
      ]
     },
     "execution_count": 129,
     "metadata": {},
     "output_type": "execute_result"
    }
   ],
   "source": [
    "#quantas linhas existem para cada algoritmo\n",
    "grp_algoritmo = df.groupby('algoritmo').size()\n",
    "grp_algoritmo"
   ]
  },
  {
   "cell_type": "code",
   "execution_count": 130,
   "metadata": {},
   "outputs": [
    {
     "data": {
      "text/plain": [
       "algoritmo  probabilidade_erro  size_of_array\n",
       "bubble     0.01                100              1000\n",
       "                               1000             1000\n",
       "                               10000            1000\n",
       "           0.02                100              1000\n",
       "                               1000             1000\n",
       "                               10000            1000\n",
       "           0.05                100              1000\n",
       "                               1000             1000\n",
       "                               10000            1000\n",
       "           1/n                 100              1000\n",
       "                               1000             1000\n",
       "                               10000            1000\n",
       "insertion  0.01                100              1000\n",
       "                               1000             1000\n",
       "                               10000            1000\n",
       "           0.02                100              1000\n",
       "                               1000             1000\n",
       "                               10000            1000\n",
       "           0.05                100              1000\n",
       "                               1000             1000\n",
       "                               10000            1000\n",
       "           1/n                 100              1000\n",
       "                               1000             1000\n",
       "                               10000            1000\n",
       "merge      0.01                100              1000\n",
       "                               1000             1000\n",
       "                               10000            1000\n",
       "           0.02                100              1000\n",
       "                               1000             1000\n",
       "                               10000            1000\n",
       "           0.05                100              1000\n",
       "                               1000             1000\n",
       "                               10000            1000\n",
       "           1/n                 100              1000\n",
       "                               1000             1000\n",
       "                               10000            1000\n",
       "quick      0.01                100              1000\n",
       "                               1000             1000\n",
       "                               10000            1000\n",
       "           0.02                100              1000\n",
       "                               1000             1000\n",
       "                               10000            1000\n",
       "           0.05                100              1000\n",
       "                               1000             1000\n",
       "                               10000            1000\n",
       "           1/n                 100              1000\n",
       "                               1000             1000\n",
       "                               10000            1000\n",
       "dtype: int64"
      ]
     },
     "execution_count": 130,
     "metadata": {},
     "output_type": "execute_result"
    }
   ],
   "source": [
    "#quantas linhas existem para cada 'algoritmo', 'probabilidade_erro', 'size_of_array'\n",
    "grp_algoritmo = df.groupby(['algoritmo', 'probabilidade_erro', 'size_of_array']).size()\n",
    "grp_algoritmo"
   ]
  },
  {
   "cell_type": "code",
   "execution_count": 131,
   "metadata": {},
   "outputs": [
    {
     "data": {
      "text/plain": [
       "probabilidade_erro\n",
       "0.01    12000\n",
       "0.02    12000\n",
       "0.05    12000\n",
       "1/n     12000\n",
       "dtype: int64"
      ]
     },
     "execution_count": 131,
     "metadata": {},
     "output_type": "execute_result"
    }
   ],
   "source": [
    "#quantas linhas existem para cada 'probabilidade_erro'\n",
    "grp_prob_erro = df.groupby(['probabilidade_erro']).size()\n",
    "grp_prob_erro"
   ]
  },
  {
   "cell_type": "code",
   "execution_count": 132,
   "metadata": {},
   "outputs": [
    {
     "data": {
      "text/plain": [
       "probabilidade_erro  algoritmo  size_of_array\n",
       "0.01                bubble     100              1000\n",
       "                               1000             1000\n",
       "                               10000            1000\n",
       "                    insertion  100              1000\n",
       "                               1000             1000\n",
       "                               10000            1000\n",
       "                    merge      100              1000\n",
       "                               1000             1000\n",
       "                               10000            1000\n",
       "                    quick      100              1000\n",
       "                               1000             1000\n",
       "                               10000            1000\n",
       "0.02                bubble     100              1000\n",
       "                               1000             1000\n",
       "                               10000            1000\n",
       "                    insertion  100              1000\n",
       "                               1000             1000\n",
       "                               10000            1000\n",
       "                    merge      100              1000\n",
       "                               1000             1000\n",
       "                               10000            1000\n",
       "                    quick      100              1000\n",
       "                               1000             1000\n",
       "                               10000            1000\n",
       "0.05                bubble     100              1000\n",
       "                               1000             1000\n",
       "                               10000            1000\n",
       "                    insertion  100              1000\n",
       "                               1000             1000\n",
       "                               10000            1000\n",
       "                    merge      100              1000\n",
       "                               1000             1000\n",
       "                               10000            1000\n",
       "                    quick      100              1000\n",
       "                               1000             1000\n",
       "                               10000            1000\n",
       "1/n                 bubble     100              1000\n",
       "                               1000             1000\n",
       "                               10000            1000\n",
       "                    insertion  100              1000\n",
       "                               1000             1000\n",
       "                               10000            1000\n",
       "                    merge      100              1000\n",
       "                               1000             1000\n",
       "                               10000            1000\n",
       "                    quick      100              1000\n",
       "                               1000             1000\n",
       "                               10000            1000\n",
       "dtype: int64"
      ]
     },
     "execution_count": 132,
     "metadata": {},
     "output_type": "execute_result"
    }
   ],
   "source": [
    "#quantas linhas existem para cada 'probabilidade_erro','algoritmo','size_of_array'\n",
    "grp_prob_erro = df.groupby(['probabilidade_erro','algoritmo','size_of_array']).size()\n",
    "grp_prob_erro"
   ]
  },
  {
   "cell_type": "code",
   "execution_count": 133,
   "metadata": {},
   "outputs": [
    {
     "data": {
      "text/plain": [
       "size_of_array\n",
       "100      16000\n",
       "1000     16000\n",
       "10000    16000\n",
       "dtype: int64"
      ]
     },
     "execution_count": 133,
     "metadata": {},
     "output_type": "execute_result"
    }
   ],
   "source": [
    "#quantas linhas existem para cada 'size_of_array'\n",
    "grp_size = df.groupby(['size_of_array']).size()\n",
    "grp_size"
   ]
  },
  {
   "cell_type": "code",
   "execution_count": 134,
   "metadata": {},
   "outputs": [
    {
     "data": {
      "text/plain": [
       "probabilidade_erro  size_of_array  algoritmo\n",
       "0.01                100            bubble       1000\n",
       "                                   insertion    1000\n",
       "                                   merge        1000\n",
       "                                   quick        1000\n",
       "                    1000           bubble       1000\n",
       "                                   insertion    1000\n",
       "                                   merge        1000\n",
       "                                   quick        1000\n",
       "                    10000          bubble       1000\n",
       "                                   insertion    1000\n",
       "                                   merge        1000\n",
       "                                   quick        1000\n",
       "0.02                100            bubble       1000\n",
       "                                   insertion    1000\n",
       "                                   merge        1000\n",
       "                                   quick        1000\n",
       "                    1000           bubble       1000\n",
       "                                   insertion    1000\n",
       "                                   merge        1000\n",
       "                                   quick        1000\n",
       "                    10000          bubble       1000\n",
       "                                   insertion    1000\n",
       "                                   merge        1000\n",
       "                                   quick        1000\n",
       "0.05                100            bubble       1000\n",
       "                                   insertion    1000\n",
       "                                   merge        1000\n",
       "                                   quick        1000\n",
       "                    1000           bubble       1000\n",
       "                                   insertion    1000\n",
       "                                   merge        1000\n",
       "                                   quick        1000\n",
       "                    10000          bubble       1000\n",
       "                                   insertion    1000\n",
       "                                   merge        1000\n",
       "                                   quick        1000\n",
       "1/n                 100            bubble       1000\n",
       "                                   insertion    1000\n",
       "                                   merge        1000\n",
       "                                   quick        1000\n",
       "                    1000           bubble       1000\n",
       "                                   insertion    1000\n",
       "                                   merge        1000\n",
       "                                   quick        1000\n",
       "                    10000          bubble       1000\n",
       "                                   insertion    1000\n",
       "                                   merge        1000\n",
       "                                   quick        1000\n",
       "dtype: int64"
      ]
     },
     "execution_count": 134,
     "metadata": {},
     "output_type": "execute_result"
    }
   ],
   "source": [
    "#quantas linhas existem para cada 'probabilidade_erro', 'size_of_array','algoritmo'\n",
    "grp_prob_erro = df.groupby(['probabilidade_erro', 'size_of_array','algoritmo']).size()\n",
    "grp_prob_erro"
   ]
  },
  {
   "cell_type": "code",
   "execution_count": 135,
   "metadata": {},
   "outputs": [
    {
     "data": {
      "text/plain": [
       "algoritmo\n",
       "bubble       12000\n",
       "insertion    12000\n",
       "merge        12000\n",
       "quick        12000\n",
       "dtype: int64"
      ]
     },
     "execution_count": 135,
     "metadata": {},
     "output_type": "execute_result"
    }
   ],
   "source": [
    "# numero de amostras de cada algoritmo\n",
    "temp = df.groupby('algoritmo').size()\n",
    "temp"
   ]
  },
  {
   "cell_type": "code",
   "execution_count": 155,
   "metadata": {},
   "outputs": [
    {
     "data": {
      "text/html": [
       "<div>\n",
       "<style>\n",
       "    .dataframe thead tr:only-child th {\n",
       "        text-align: right;\n",
       "    }\n",
       "\n",
       "    .dataframe thead th {\n",
       "        text-align: left;\n",
       "    }\n",
       "\n",
       "    .dataframe tbody tr th {\n",
       "        vertical-align: top;\n",
       "    }\n",
       "</style>\n",
       "<table border=\"1\" class=\"dataframe\">\n",
       "  <thead>\n",
       "    <tr style=\"text-align: right;\">\n",
       "      <th></th>\n",
       "      <th>0</th>\n",
       "    </tr>\n",
       "    <tr>\n",
       "      <th>probabilidade_erro</th>\n",
       "      <th></th>\n",
       "    </tr>\n",
       "  </thead>\n",
       "  <tbody>\n",
       "    <tr>\n",
       "      <th>0.01</th>\n",
       "      <td>12000</td>\n",
       "    </tr>\n",
       "    <tr>\n",
       "      <th>0.02</th>\n",
       "      <td>12000</td>\n",
       "    </tr>\n",
       "    <tr>\n",
       "      <th>0.05</th>\n",
       "      <td>12000</td>\n",
       "    </tr>\n",
       "    <tr>\n",
       "      <th>1/n</th>\n",
       "      <td>12000</td>\n",
       "    </tr>\n",
       "  </tbody>\n",
       "</table>\n",
       "</div>"
      ],
      "text/plain": [
       "                        0\n",
       "probabilidade_erro       \n",
       "0.01                12000\n",
       "0.02                12000\n",
       "0.05                12000\n",
       "1/n                 12000"
      ]
     },
     "execution_count": 155,
     "metadata": {},
     "output_type": "execute_result"
    }
   ],
   "source": [
    "# numero de amostras de cada probabilidade_erro\n",
    "temp = df.groupby('probabilidade_erro').size()\n",
    "temp = pd.DataFrame(data=temp)\n",
    "temp\n"
   ]
  },
  {
   "cell_type": "code",
   "execution_count": 190,
   "metadata": {},
   "outputs": [
    {
     "data": {
      "text/plain": [
       "<matplotlib.axes._subplots.AxesSubplot at 0x1a264f9a20>"
      ]
     },
     "execution_count": 190,
     "metadata": {},
     "output_type": "execute_result"
    },
    {
     "data": {
      "image/png": "[encoded data removed]",
      "text/plain": [
       "<matplotlib.figure.Figure at 0x1a26609390>"
      ]
     },
     "metadata": {},
     "output_type": "display_data"
    }
   ],
   "source": [
    "temp.plot(kind = 'bar', style = 'b', alpha = 0.9, title = \"Prob. Erro X Quantidade Entradas\", figsize=[20,5] )"
   ]
  },
  {
   "cell_type": "code",
   "execution_count": 254,
   "metadata": {},
   "outputs": [
    {
     "data": {
      "text/plain": [
       "<matplotlib.axes._subplots.AxesSubplot at 0x1a2de919b0>"
      ]
     },
     "execution_count": 254,
     "metadata": {},
     "output_type": "execute_result"
    },
    {
     "data": {
      "image/png": "[encoded data removed]",
      "text/plain": [
       "<matplotlib.figure.Figure at 0x1a2e1a91d0>"
      ]
     },
     "metadata": {},
     "output_type": "display_data"
    }
   ],
   "source": [
    "sns.reset_orig()\n",
    "# plt.style.use('seaborn-whitegrid')\n",
    "# plt.style.use('seaborn-pastel')\n",
    "# plt.style.use('seaborn-colorblind')\n",
    "# plt.style.use('seaborn-bright')\n",
    "# plt.style.use('grayscale')\n",
    "# plt.style.use('ggplot')\n",
    "# plt.style.use('fivethirtyeight')\n",
    "# plt.style.use('dark_background')\n",
    "\n",
    "\n",
    "fig = plt.figure(figsize=[15,4])\n",
    "plt.title('Prob. Erro X Quantidade Linhas')\n",
    "sns.barplot(data=temp, x=temp.index, y=temp.columns[0]) #, hue=temp.index )\n",
    "\n"
   ]
  },
  {
   "cell_type": "code",
   "execution_count": 137,
   "metadata": {},
   "outputs": [
    {
     "data": {
      "text/plain": [
       "size_of_array\n",
       "100      16000\n",
       "1000     16000\n",
       "10000    16000\n",
       "dtype: int64"
      ]
     },
     "execution_count": 137,
     "metadata": {},
     "output_type": "execute_result"
    }
   ],
   "source": [
    "# numero de amostras de cada size_of_array\n",
    "temp = df.groupby('size_of_array').size()\n",
    "temp"
   ]
  },
  {
   "cell_type": "code",
   "execution_count": 138,
   "metadata": {},
   "outputs": [
    {
     "data": {
      "text/plain": [
       "size_of_array  probabilidade_erro\n",
       "100            0.01                  4000\n",
       "               0.02                  4000\n",
       "               0.05                  4000\n",
       "               1/n                   4000\n",
       "1000           0.01                  4000\n",
       "               0.02                  4000\n",
       "               0.05                  4000\n",
       "               1/n                   4000\n",
       "10000          0.01                  4000\n",
       "               0.02                  4000\n",
       "               0.05                  4000\n",
       "               1/n                   4000\n",
       "dtype: int64"
      ]
     },
     "execution_count": 138,
     "metadata": {},
     "output_type": "execute_result"
    }
   ],
   "source": [
    "#quantas linhas existem para cada 'size_of_array', 'probabilidade_erro','algoritmo'\n",
    "temp = df.groupby(['size_of_array', 'probabilidade_erro']).size()\n",
    "temp"
   ]
  },
  {
   "cell_type": "code",
   "execution_count": 139,
   "metadata": {},
   "outputs": [
    {
     "data": {
      "text/plain": [
       "<matplotlib.figure.Figure at 0x1a1d877630>"
      ]
     },
     "metadata": {},
     "output_type": "display_data"
    }
   ],
   "source": [
    "fig = plt.figure(figsize=[20,30])\n",
    "# temp = temp.add_suffix('_Count').reset_index()\n",
    "temp = pd.DataFrame(data=temp, columns=temp.columns )\n",
    "\n",
    "\n",
    "# temp.plot(kind = 'bar', style = 'b', alpha = 0.4, title = \"Total Values for Country\")\n",
    "# sns.barplot(data=temp, x=temp['probabilidade_erro'])\n",
    "#temp['probabilidade_erro']\n",
    "# ax = sns.distplot(temp)"
   ]
  },
  {
   "cell_type": "code",
   "execution_count": 5,
   "metadata": {
    "collapsed": true
   },
   "outputs": [],
   "source": [
    "#calcula a porcentagem do maior array\n",
    "s = df['largest_sorted_subarray'] / df['size_of_array']  * 100"
   ]
  },
  {
   "cell_type": "code",
   "execution_count": 6,
   "metadata": {},
   "outputs": [
    {
     "data": {
      "text/plain": [
       "0        0.90\n",
       "1        0.66\n",
       "2        0.66\n",
       "3        0.67\n",
       "4        0.90\n",
       "5        0.53\n",
       "6        0.64\n",
       "7        0.64\n",
       "8        1.03\n",
       "9        0.71\n",
       "10       1.03\n",
       "11       0.71\n",
       "12       0.71\n",
       "13       0.85\n",
       "14       0.61\n",
       "15       0.83\n",
       "16       0.70\n",
       "17       0.70\n",
       "18       0.65\n",
       "19       0.73\n",
       "20       0.65\n",
       "21       0.82\n",
       "22       0.82\n",
       "23       0.61\n",
       "24       0.77\n",
       "25       0.77\n",
       "26       0.61\n",
       "27       0.85\n",
       "28       0.53\n",
       "29       0.53\n",
       "         ... \n",
       "47970    8.30\n",
       "47971    5.90\n",
       "47972    5.90\n",
       "47973    8.30\n",
       "47974    6.40\n",
       "47975    8.80\n",
       "47976    6.40\n",
       "47977    6.90\n",
       "47978    8.80\n",
       "47979    8.80\n",
       "47980    6.90\n",
       "47981    7.00\n",
       "47982    6.70\n",
       "47983    7.00\n",
       "47984    6.40\n",
       "47985    4.10\n",
       "47986    4.10\n",
       "47987    6.70\n",
       "47988    6.70\n",
       "47989    4.10\n",
       "47990    7.20\n",
       "47991    4.10\n",
       "47992    7.20\n",
       "47993    6.40\n",
       "47994    7.10\n",
       "47995    5.70\n",
       "47996    5.90\n",
       "47997    5.90\n",
       "47998    5.70\n",
       "47999    8.30\n",
       "Length: 48000, dtype: float64"
      ]
     },
     "execution_count": 6,
     "metadata": {},
     "output_type": "execute_result"
    }
   ],
   "source": [
    "s"
   ]
  },
  {
   "cell_type": "code",
   "execution_count": null,
   "metadata": {
    "collapsed": true
   },
   "outputs": [],
   "source": []
  }
 ],
 "metadata": {
  "kernelspec": {
   "display_name": "Python 3",
   "language": "python",
   "name": "python3"
  },
  "language_info": {
   "codemirror_mode": {
    "name": "ipython",
    "version": 3
   },
   "file_extension": ".py",
   "mimetype": "text/x-python",
   "name": "python",
   "nbconvert_exporter": "python",
   "pygments_lexer": "ipython3",
   "version": "3.6.3"
  }
 },
 "nbformat": 4,
 "nbformat_minor": 2
}
